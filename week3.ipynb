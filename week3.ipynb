{
 "cells": [
  {
   "cell_type": "markdown",
   "id": "67ebd1ad",
   "metadata": {},
   "source": [
    "# Week 3: Writing your own SQL queries"
   ]
  },
  {
   "cell_type": "code",
   "execution_count": null,
   "id": "8e5007fa",
   "metadata": {},
   "outputs": [],
   "source": [
    "\n",
    "SELECT radius, t_eff \n",
    "FROM Star\n",
    "WHERE radius > 1;"
   ]
  },
  {
   "cell_type": "code",
   "execution_count": null,
   "id": "091aa84e",
   "metadata": {},
   "outputs": [],
   "source": [
    "SELECT kepler_id , t_eff \n",
    "FROM Star\n",
    "WHERE t_eff BETWEEN 5000 AND 6000;\n"
   ]
  },
  {
   "cell_type": "code",
   "execution_count": null,
   "id": "81701dbf",
   "metadata": {},
   "outputs": [],
   "source": [
    "SELECT kepler_name  , radius  \n",
    "FROM Planet \n",
    "WHERE\n",
    " radius BETWEEN 1 AND 3 AND\n",
    "  kepler_name IS NOT NULL;"
   ]
  },
  {
   "cell_type": "code",
   "execution_count": null,
   "id": "a629c48e",
   "metadata": {},
   "outputs": [],
   "source": [
    "SELECT MIN(radius), MAX(radius), AVG(radius),STDDEV(radius)\n",
    "FROM Planet\n",
    "WHERE kepler_name is NULL;\n"
   ]
  },
  {
   "cell_type": "code",
   "execution_count": null,
   "id": "e288309b",
   "metadata": {},
   "outputs": [],
   "source": [
    "SELECT kepler_id, COUNT(koi_name) \n",
    "FROM Planet \n",
    "GROUP BY kepler_id HAVING COUNT(koi_name) > 1\n",
    "ORDER BY COUNT(koi_name) DESC;\n"
   ]
  },
  {
   "cell_type": "code",
   "execution_count": null,
   "id": "d6fb3309",
   "metadata": {},
   "outputs": [],
   "source": [
    "SELECT s.radius AS sun_radius,\n",
    "  p.radius AS planet_radius\n",
    "FROM Star AS s, Planet AS p\n",
    "WHERE s.kepler_id = p.kepler_id AND\n",
    "  s.radius > p.radius \n",
    "ORDER BY S.radius DESC;"
   ]
  },
  {
   "cell_type": "code",
   "execution_count": null,
   "id": "9371d7b9",
   "metadata": {},
   "outputs": [],
   "source": [
    "SELECT Star.radius, COUNT(Planet.koi_name)\n",
    "FROM Star\n",
    "JOIN Planet USING (kepler_id)\n",
    "WHERE Star.radius >= 1\n",
    "GROUP BY Star.kepler_id\n",
    "HAVING COUNT(Planet.koi_name) > 1\n",
    "ORDER BY Star.radius DESC;"
   ]
  },
  {
   "cell_type": "code",
   "execution_count": null,
   "id": "24bd8fda",
   "metadata": {},
   "outputs": [],
   "source": [
    "SELECT s.kepler_id, s.t_eff, s.radius\n",
    "FROM Star AS s\n",
    "LEFT OUTER JOIN Planet AS p USING (kepler_id)\n",
    "WHERE p.koi_name is NULL\n",
    "ORDER BY t_eff DESC;"
   ]
  },
  {
   "cell_type": "code",
   "execution_count": null,
   "id": "6a409bb1",
   "metadata": {},
   "outputs": [],
   "source": [
    "SELECT p.koi_name, p.radius, s.radius\n",
    "FROM Star AS s\n",
    "JOIN Planet AS p USING (kepler_id)\n",
    "WHERE s.kepler_id IN (\n",
    "  SELECT kepler_id\n",
    "  FROM Star\n",
    "  ORDER BY radius DESC\n",
    "  LIMIT 5\n",
    ");"
   ]
  },
  {
   "cell_type": "code",
   "execution_count": null,
   "id": "eda5359b",
   "metadata": {},
   "outputs": [],
   "source": []
  }
 ],
 "metadata": {
  "kernelspec": {
   "display_name": "Python 3 (ipykernel)",
   "language": "python",
   "name": "python3"
  },
  "language_info": {
   "codemirror_mode": {
    "name": "ipython",
    "version": 3
   },
   "file_extension": ".py",
   "mimetype": "text/x-python",
   "name": "python",
   "nbconvert_exporter": "python",
   "pygments_lexer": "ipython3",
   "version": "3.9.13"
  }
 },
 "nbformat": 4,
 "nbformat_minor": 5
}
