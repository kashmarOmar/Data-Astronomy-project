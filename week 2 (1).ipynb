{
 "cells": [
  {
   "cell_type": "markdown",
   "id": "48feabca",
   "metadata": {},
   "source": [
    "# Week 2: A naive cross-matcher"
   ]
  },
  {
   "cell_type": "markdown",
   "id": "a3b6654e",
   "metadata": {},
   "source": [
    "## Write two functions, one that converts right ascension from HMS to decimal degrees, called hms2dec, and another that converts declination from DMS to decimal degrees, called dms2dec.\n",
    "\n",
    "Right ascension is always an angle from 0 to 24 hours and declination is always an angle from -90° to +90°. "
   ]
  },
  {
   "cell_type": "code",
   "execution_count": 1,
   "id": "44c5efa4",
   "metadata": {},
   "outputs": [
    {
     "name": "stdout",
     "output_type": "stream",
     "text": [
      "348.025\n",
      "22.955\n",
      "-66.08475\n"
     ]
    }
   ],
   "source": [
    "# Write your hms2dec and dms2dec functions here\n",
    "\n",
    "def  hms2dec(x,y,z):\n",
    "  d=15*(x+y/60+z/(60*60))\n",
    "  return d\n",
    "\n",
    "def dms2dec(x,y,z):\n",
    "  if x>0:\n",
    "     n=(x+y/60+z/(60*60))\n",
    "  else :\n",
    "     n=(-1*((-x)+y/60+z/(60*60)))\n",
    "  return n\n",
    "  \n",
    "  \n",
    "\n",
    "\n",
    "# You can use this to test your function.\n",
    "# Any code inside this `if` statement will be ignored by the automarker.\n",
    "if __name__ == '__main__':\n",
    "  # The first example from the question\n",
    "  print(hms2dec(23, 12, 6))\n",
    "\n",
    "  # The second example from the question\n",
    "  print(dms2dec(22, 57, 18))\n",
    "\n",
    "  # The third example from the question\n",
    "  print(dms2dec(-66, 5, 5.1))"
   ]
  },
  {
   "cell_type": "code",
   "execution_count": 2,
   "id": "a7d7258c",
   "metadata": {},
   "outputs": [
    {
     "name": "stdout",
     "output_type": "stream",
     "text": [
      "8.100392318146504\n",
      "29.208498180546595\n"
     ]
    }
   ],
   "source": [
    "# Write your angular_dist function here.\n",
    "import numpy as np\n",
    "\n",
    "# calculate angular distacne between objects (r1,d1) and (r2, d2), (r, d) in degrees\n",
    "def angular_dist(r1_degree, d1_degree, r2_degree, d2_degree):\n",
    "    # convert to radians\n",
    "    r1 = np.radians(r1_degree)\n",
    "    r2 = np.radians(r2_degree)\n",
    "    d1 = np.radians(d1_degree)\n",
    "    d2 = np.radians(d2_degree)\n",
    "  \n",
    "    delta_1 = d1 - d2\n",
    "    if delta_1<0: # when negative, make it positive\n",
    "        delta_1 = - delta_1\n",
    "    \n",
    "    delta_1 = (delta_1)/2\n",
    "    a = np.square( np.sin(delta_1) )\n",
    "    b = np.cos(d1)*np.cos(d2) * np.square(np.sin(np.abs(r1 - r2)/2))\n",
    "    d = 2 * np.arcsin( np.sqrt(a + b) ) \n",
    "    \n",
    "    return np.degrees(d)\n",
    "\n",
    "\n",
    "# You can use this to test your function.\n",
    "# Any code inside this `if` statement will be ignored by the automarker.\n",
    "if __name__ == '__main__':\n",
    "  # Run your function with the first example in the question.\n",
    "  print(angular_dist(21.07, 0.1, 21.15, 8.2))\n",
    "\n",
    "  # Run your function with the second example in the question\n",
    "  print(angular_dist(10.3, -3, 24.3, -29))\n"
   ]
  },
  {
   "cell_type": "code",
   "execution_count": 3,
   "id": "61ddcdec",
   "metadata": {},
   "outputs": [],
   "source": [
    "# Write your find_closest function here\n",
    "import numpy as np\n",
    "\n",
    "def hms2dec(hr, m, s):\n",
    "  dec = hr + m/60 + s/3600\n",
    "  return dec*15\n",
    "\n",
    "def dms2dec(d, m, s):\n",
    "  sign = d/abs(d)\n",
    "  dec = abs(d) + m/60 + s/3600\n",
    "  return sign*dec\n",
    "\n",
    "def import_bss():\n",
    "  res = []\n",
    "  data = np.loadtxt('bss.dat', usecols=range(1, 7))\n",
    "  for i, row in enumerate(data, 1):\n",
    "    res.append((i, hms2dec(row[0], row[1], row[2]), dms2dec(row[3], row[4], row[5])))\n",
    "  return res\n",
    "\n",
    "def import_super():\n",
    "  data = np.loadtxt('super.csv', delimiter=',', skiprows=1, usecols=[0, 1])\n",
    "  res = []\n",
    "  for i, row in enumerate(data, 1):\n",
    "    res.append((i, row[0], row[1]))\n",
    "  return res\n",
    "\n",
    "def angular_dist(ra1, dec1, ra2, dec2):\n",
    "  # Convert to radians\n",
    "  r1 = np.radians(ra1)\n",
    "  d1 = np.radians(dec1)\n",
    "  r2 = np.radians(ra2)\n",
    "  d2 = np.radians(dec2)\n",
    "\n",
    "  a = np.sin(np.abs(d1 - d2)/2)**2\n",
    "  b = np.cos(d1)*np.cos(d2)*np.sin(np.abs(r1 - r2)/2)**2\n",
    "\n",
    "  angle = 2*np.arcsin(np.sqrt(a + b))\n",
    "    \n",
    "  # Convert back to degrees\n",
    "  return np.degrees(angle)\n",
    "\n",
    "def find_closest(cat, ra, dec):\n",
    "  min_dist = np.inf\n",
    "  min_id = None\n",
    "  for id1, ra1, dec1 in cat:\n",
    "    dist = angular_dist(ra1, dec1, ra, dec)\n",
    "    if dist < min_dist:\n",
    "      min_id = id1\n",
    "      min_dist = dist\n",
    "    \n",
    "  return min_id, min_dist"
   ]
  },
  {
   "cell_type": "code",
   "execution_count": null,
   "id": "86a00929",
   "metadata": {},
   "outputs": [],
   "source": []
  }
 ],
 "metadata": {
  "kernelspec": {
   "display_name": "Python 3 (ipykernel)",
   "language": "python",
   "name": "python3"
  },
  "language_info": {
   "codemirror_mode": {
    "name": "ipython",
    "version": 3
   },
   "file_extension": ".py",
   "mimetype": "text/x-python",
   "name": "python",
   "nbconvert_exporter": "python",
   "pygments_lexer": "ipython3",
   "version": "3.9.13"
  }
 },
 "nbformat": 4,
 "nbformat_minor": 5
}
