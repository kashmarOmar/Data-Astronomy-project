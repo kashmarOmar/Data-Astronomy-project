{
 "cells": [
  {
   "cell_type": "markdown",
   "id": "4c927d20",
   "metadata": {},
   "source": [
    "# Week 1: Calculating the mean stack"
   ]
  },
  {
   "cell_type": "markdown",
   "id": "f72ed914",
   "metadata": {},
   "source": [
    "# You will use these skills to solve a series of problems that lead you towards the task for this module: calculating the mean stack of a set of FITS images. "
   ]
  },
  {
   "cell_type": "code",
   "execution_count": null,
   "id": "c5c9d95c",
   "metadata": {},
   "outputs": [],
   "source": [
    "# Write your calculate_mean function here.\n",
    "n_num=[1,2,3,4]\n",
    "n=len(n_num)\n",
    "getsum=sum(n_num)\n",
    "mean=getsum/n\n",
    "print(\"Mean is \"+str(mean))\n",
    "\n",
    "\n",
    "\n",
    "# You can use this to test your function.\n",
    "# Any code inside this `if` statement will be ignored by the automarker.\n"
   ]
  },
  {
   "cell_type": "markdown",
   "id": "908610a0",
   "metadata": {},
   "source": [
    "### Write a calc_stats function that reads data from a CSV file and calculates its mean and the median. Your function should take the name of the file as an argument and return the mean and median in a tuple, rounded to one decimal place.\n",
    "\n",
    "Here's a sample file that your function could take: "
   ]
  },
  {
   "cell_type": "code",
   "execution_count": null,
   "id": "d238c4d5",
   "metadata": {},
   "outputs": [],
   "source": [
    "# Write your calc_stats function here.\n",
    "import numpy as np\n",
    "def calc_stats(x):\n",
    "  x=np.loadtxt('data1.csv', delimiter=',')\n",
    "  m=np.mean(x)\n",
    "  m=round(m,1)\n",
    "  d=np.median(x)\n",
    "  d=round(d,1)\n",
    "  return m,d\n",
    "# You can use this to test your function.\n",
    "# Any code inside this `if` statement will be ignored by the automarker.\n",
    "if __name__ == '__main__':\n",
    "  # Run your `calc_stats` function with examples:\n",
    "  mean = calc_stats('data.csv')\n",
    "  print(mean)"
   ]
  },
  {
   "cell_type": "markdown",
   "id": "44fcd65c",
   "metadata": {},
   "source": [
    "### Write a mean_datasets function that reads in a list of CSV files and returns an array of the mean of each cell in the data files.\n",
    "\n",
    "The files each contain n rows and m columns, giving a total of n x m cells. The individual cells are separated by commas, and all CSV files in the list will have the same number of rows and columns.\n",
    "\n",
    "The result should have the same dimensions as the input files. The result should be a NumPy array with individual entries rounded to one decimal place.\n",
    "\n",
    "Suppose we want to use the three files data1.csv, data2.csv and data3.csv. Your function should then take a list of the filenames and return the following: "
   ]
  },
  {
   "cell_type": "code",
   "execution_count": null,
   "id": "48a18b19",
   "metadata": {},
   "outputs": [],
   "source": [
    "# Write your mean_datasets function here\n",
    "import numpy as np\n",
    "def mean_datasets(filenames):\n",
    "    n = len(filenames) # calculate number of files\n",
    "    if n > 0:\n",
    "        data = np.loadtxt(filenames[0], delimiter=',') # load data from first file\n",
    "        for i in range(1,n):\n",
    "            data += np.loadtxt(filenames[i], delimiter=',') # add data of all other files\n",
    "    \n",
    "        # caculate Mean across all files:\n",
    "        data_mean = data/n        \n",
    "        # round all data to 1 decimal\n",
    "        return np.round(data_mean, 1)\n",
    "\n",
    "\n",
    "# You can use this to test your function.\n",
    "# Any code inside this `if` statement will be ignored by the automarker.\n",
    "if __name__ == '__main__':\n",
    "  # Run your function with the first example from the question:\n",
    "  print(mean_datasets(['data1.csv', 'data2.csv', 'data3.csv']))\n",
    "\n",
    "  # Run your function with the second example from the question:\n",
    "  print(mean_datasets(['data4.csv', 'data5.csv', 'data6.csv']))\n"
   ]
  },
  {
   "cell_type": "code",
   "execution_count": null,
   "id": "df266f5b",
   "metadata": {},
   "outputs": [],
   "source": [
    "# Write your load_fits function here.\n",
    "import numpy as np\n",
    "from astropy.io import fits\n",
    "import matplotlib.pyplot as plt\n",
    "def load_fits(x):\n",
    "  hdulist = fits.open(x)\n",
    "  data = hdulist[0].data\n",
    "  arg_max = np.argmax(data) #get maximum   \n",
    "  max_pos = np.unravel_index(arg_max, data.shape) #unravel index\n",
    "  return max_pos #return tuple (x,y)\n",
    "\n",
    "\n",
    "\n",
    "if __name__ == '__main__':\n",
    "  # Run your `load_fits` function with examples:\n",
    "  bright = load_fits('image1.fits')\n",
    "  print(bright)\n",
    "\n",
    "  # You can also confirm your result visually:\n",
    "  from astropy.io import fits\n",
    "  import matplotlib.pyplot as plt\n",
    "\n",
    "  hdulist = fits.open('image1.fits')\n",
    "  data = hdulist[0].data\n",
    "\n",
    "  # Plot the 2D image data\n",
    "  plt.imshow(data.T, cmap=plt.cm.viridis)\n",
    "  plt.colorbar()\n",
    "  plt.show()\n",
    "\n",
    " \n"
   ]
  },
  {
   "cell_type": "code",
   "execution_count": null,
   "id": "8c3bcdfe",
   "metadata": {},
   "outputs": [],
   "source": [
    "# Write your mean_fits function here:\n",
    "from astropy.io import fits\n",
    "import numpy as np\n",
    "def mean_fits(filenames):\n",
    "    n = len(filenames)\n",
    "    if n > 0:\n",
    "        # get the data of first file\n",
    "        hdulist = fits.open(filenames[0])\n",
    "        data = hdulist[0].data\n",
    "        hdulist.close() \n",
    "        for i in range(1, n):\n",
    "            hdulist = fits.open(filenames[i])\n",
    "            data += hdulist[0].data\n",
    "            hdulist.close()\n",
    "        \n",
    "        mean = data / n\n",
    "        return mean\n",
    "\n",
    "\n",
    "if __name__ == '__main__':\n",
    "  \n",
    "  # Test your function with examples from the question\n",
    "  data  = mean_fits(['image0.fits', 'image1.fits', 'image2.fits'])\n",
    "  print(data[100, 100])\n",
    "\n",
    "  # You can also plot the result:\n",
    "  import matplotlib.pyplot as plt\n",
    "  plt.imshow(data.T, cmap=plt.cm.viridis)\n",
    "  plt.colorbar()\n",
    "  plt.show()"
   ]
  },
  {
   "cell_type": "code",
   "execution_count": null,
   "id": "4ff3ccce",
   "metadata": {},
   "outputs": [],
   "source": []
  }
 ],
 "metadata": {
  "kernelspec": {
   "display_name": "Python 3 (ipykernel)",
   "language": "python",
   "name": "python3"
  },
  "language_info": {
   "codemirror_mode": {
    "name": "ipython",
    "version": 3
   },
   "file_extension": ".py",
   "mimetype": "text/x-python",
   "name": "python",
   "nbconvert_exporter": "python",
   "pygments_lexer": "ipython3",
   "version": "3.9.13"
  }
 },
 "nbformat": 4,
 "nbformat_minor": 5
}
