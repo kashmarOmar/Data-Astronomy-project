{
 "cells": [
  {
   "cell_type": "markdown",
   "id": "6b179955",
   "metadata": {},
   "source": [
    "# 4a – Week 4: Setting up your own database "
   ]
  },
  {
   "cell_type": "code",
   "execution_count": null,
   "id": "9952f060",
   "metadata": {},
   "outputs": [],
   "source": [
    "#Have a look at the table before and after the insertion to make sure everything went fine. The automarker will run a SELECT * FROM Star query to check the result. \n",
    "INSERT INTO Star (kepler_id, t_eff, radius) VALUES\n",
    "  (7115384, 3789,27.384),\n",
    "  (8106973, 5810, 0.811),\n",
    "  (9391817, 6200, 0.958);\n",
    "  \n",
    " SELECT * FROM Star "
   ]
  },
  {
   "cell_type": "markdown",
   "id": "9db507ed",
   "metadata": {},
   "source": [
    "## \n",
    "Your task is to fix a Planet table has been corrupted.\n",
    "\n",
    "There are two problems: some of the rows were copied with a negative radius and the unconfirmed planets were given fake Kepler names. To fix this, you'll have to:\n",
    "\n",
    "    Update the Kepler names of planets which don't have a confirmed status (replace the kepler_name with NULL);\n",
    "    Delete rows where the radius is negative.\n",
    "\n",
    "Have a look at the table to find out what needs to be changed.\n"
   ]
  },
  {
   "cell_type": "code",
   "execution_count": null,
   "id": "31391833",
   "metadata": {},
   "outputs": [],
   "source": [
    "UPDATE Planet\n",
    " SET kepler_name = NULL\n",
    " WHERE UPPER(status) != 'CONFIRMED';\n",
    "\n",
    "DELETE FROM Planet\n",
    " WHERE radius < 0;\n",
    " \n",
    " SELECT * FROM Planet "
   ]
  },
  {
   "cell_type": "markdown",
   "id": "90f5cc41",
   "metadata": {},
   "source": [
    "### ow you've ready to create your first table. Your task is to set up a new Planet table and fill it with the planets listed below.\n",
    "\n",
    "Your table should consist of the following attributes in this order:\n",
    "\n",
    "    kepler_id, as type INTEGER\n",
    "    koi_name, as type VARCHAR(15)\n",
    "    kepler_name, as type VARCHAR(15)\n",
    "    status, as type VARCHAR(20)\n",
    "    radius, as type FLOAT\n",
    "\n",
    "Add the following constraints:\n",
    "\n",
    "    make all attributes NOT NULL except kepler_name;\n",
    "    make the koi_name a unique attribute.\n",
    "\n",
    "Finally, insert the following planets into your new table: "
   ]
  },
  {
   "cell_type": "code",
   "execution_count": null,
   "id": "e9a96163",
   "metadata": {},
   "outputs": [],
   "source": [
    "CREATE TABLE Planet  (\n",
    "  kepler_id INTEGER NOT NULL ,\n",
    "  koi_name VARCHAR(15) NOT NULL UNIQUE ,\n",
    "  kepler_name VARCHAR(15),\n",
    "  status VARCHAR(20)NOT NULL,\n",
    "  radius FLOAT NOT NULL\n",
    ");\n",
    "\n",
    "INSERT INTO Planet \n",
    "(kepler_id, koi_name, kepler_name, status, radius)\n",
    " VALUES(6862328, 'K00865.01', NULL, 'CANDIDATE', 119.021);\n",
    " \n",
    "INSERT INTO Planet \n",
    " (kepler_id, koi_name, kepler_name, status, radius)\n",
    " VALUES(10187017, 'K00082.05', 'Kepler-102 b', 'CONFIRMED', 5.286);\n",
    " \n",
    "INSERT INTO Planet \n",
    " (kepler_id, koi_name, kepler_name, status, radius)\n",
    " VALUES(10187017, 'K00082.04', 'Kepler-102 c', 'CONFIRMED', 7.071);"
   ]
  },
  {
   "cell_type": "markdown",
   "id": "36200a07",
   "metadata": {},
   "source": [
    "### You can now create the Star and Planet tables that we've been querying throughout these activities and fill the tables using the two CSV files which contain the star and planet data.\n",
    "\n",
    "The tables and CSV files should contain the columns as follows: "
   ]
  },
  {
   "cell_type": "code",
   "execution_count": null,
   "id": "05d9876f",
   "metadata": {},
   "outputs": [],
   "source": [
    "CREATE TABLE Star (\n",
    "  kepler_id INTEGER PRIMARY KEY ,\n",
    "  t_eff INTEGER NOT NULL,\n",
    "  radius FLOAT NOT NULL \n",
    ");\n",
    "  \n",
    "CREATE TABLE Planet (\n",
    "  kepler_id INTEGER REFERENCES Star (Kepler_ID),\n",
    "  koi_name VARCHAR (20) PRIMARY KEY,\n",
    "  kepler_name  VARCHAR (20),\n",
    "  status   CHAR (20) NOT NULL,\n",
    "  period   FLOAT,\n",
    "  radius  FLOAT,\n",
    "  t_eq INTEGER\n",
    " \n",
    ");\n",
    "COPY Star (kepler_id, t_eff, radius) FROM 'stars.csv' CSV;\n",
    "COPY Planet (kepler_id, koi_name, kepler_name, status, period, radius, t_eq) FROM 'planets.csv' CSV;\n",
    "  "
   ]
  },
  {
   "cell_type": "code",
   "execution_count": null,
   "id": "58f311e6",
   "metadata": {},
   "outputs": [],
   "source": [
    "ALTER TABLE Star\n",
    "  ADD COLUMN ra FLOAT,\n",
    "  ADD COLUMN decl FLOAT;\n",
    "DELETE FROM Star;\n",
    "\n",
    "COPY Star (kepler_id, t_eff, radius, ra, decl) FROM 'stars_full.csv' CSV;"
   ]
  },
  {
   "cell_type": "markdown",
   "id": "7558d0bc",
   "metadata": {},
   "source": [
    "#### 4b – Week 4: Combining SQL and Python "
   ]
  },
  {
   "cell_type": "code",
   "execution_count": null,
   "id": "4145f66a",
   "metadata": {},
   "outputs": [],
   "source": [
    "import psycopg2\n",
    "\n",
    "def select_all(table):\n",
    "\n",
    "  conn = psycopg2.connect('dbname=db user=grok')\n",
    "  cursor = conn.cursor()\n",
    "\n",
    "  query = 'SELECT * FROM ' + table + ';'\n",
    "  \n",
    "  cursor.execute(query)\n",
    "  records = cursor.fetchall()\n",
    "\n",
    "  return records\n"
   ]
  },
  {
   "cell_type": "code",
   "execution_count": null,
   "id": "ade62ea8",
   "metadata": {},
   "outputs": [],
   "source": [
    "import numpy as np\n",
    "import psycopg2\n",
    "\n",
    "def column_stats(table, col):\n",
    "  conn = psycopg2.connect(dbname='db', user='grok')\n",
    "  cursor = conn.cursor()\n",
    "\n",
    "  query = 'SELECT ' + col + ' FROM ' + table + ';'\n",
    "  cursor.execute(query)\n",
    "  column = np.array(cursor.fetchall())\n",
    "  return np.mean(column), np.median(column)"
   ]
  },
  {
   "cell_type": "code",
   "execution_count": null,
   "id": "243449bc",
   "metadata": {},
   "outputs": [],
   "source": [
    "# Write your query function here\n",
    "\n",
    "import numpy as np\n",
    "\n",
    "def query(f_name):\n",
    "  data = np.loadtxt(f_name, delimiter=',', usecols=(0, 2))\n",
    "  return data[data[:, 1]>1, :]\n",
    "  \n",
    "\n",
    "if __name__ == '__main__':\n",
    "  print(query('stars.csv')) \n",
    "\n",
    "\n",
    "\n",
    "# You can use this to test your code\n",
    "# Everything inside this if-statement will be ignored by the automarker\n",
    "if __name__ == '__main__':\n",
    "  # Compare your function output to the SQL query\n",
    "  result = query('stars.csv')"
   ]
  },
  {
   "cell_type": "code",
   "execution_count": null,
   "id": "19c217c9",
   "metadata": {},
   "outputs": [],
   "source": [
    "# Write your query function here\n",
    "\n",
    "import numpy as np\n",
    "\n",
    "def query(f_name):\n",
    "  data = np.loadtxt(f_name, delimiter=',', usecols=(0, 2))\n",
    "  filtered_data = data[data[:,1]>1, :]\n",
    "  sorted_data = filtered_data[np.argsort(filtered_data[:, 1]), :]\n",
    "  return sorted_data\n",
    " \n",
    "\n",
    "\n",
    "# You can use this to test your code\n",
    "# Everything inside this if-statement will be ignored by the automarker\n",
    "if __name__ == '__main__':\n",
    "  # Compare your function output to the SQL query\n",
    "  result = query('stars.csv')"
   ]
  },
  {
   "cell_type": "code",
   "execution_count": null,
   "id": "a067e050",
   "metadata": {},
   "outputs": [],
   "source": [
    "# Write your query function here\n",
    "\n",
    "import numpy as np\n",
    "\n",
    "def query(fname_1, fname_2):\n",
    "  stars = np.loadtxt(fname_1, delimiter=',', usecols=(0, 2))\n",
    "  planets = np.loadtxt(fname_2, delimiter=',', usecols=(0, 5))\n",
    "\n",
    "  f_stars = stars[stars[:,1]>1, :]                \n",
    "  s_stars = f_stars[np.argsort(f_stars[:, 1]), :] \n",
    " \n",
    "  final = np.zeros((1, 1))\n",
    "  for i in range(s_stars.shape[0]):\n",
    "    kep_id = s_stars[i, 0]\n",
    "    s_radius = s_stars[i, 1]\n",
    "\n",
    "    matching_planets = planets[np.where(planets[:, 0] == kep_id), 1].T\n",
    "    final = np.concatenate((final, matching_planets/s_radius))\n",
    "\n",
    "  return np.sort(final[1:], axis = 0)\n",
    "    \n",
    "\n",
    "\n",
    "# You can use this to test your code\n",
    "# Everything inside this if-statement will be ignored by the automarker\n",
    "if __name__ == '__main__':\n",
    "  # Compare your function output to the SQL query\n",
    "  result = query('stars.csv', 'planets.csv')"
   ]
  },
  {
   "cell_type": "code",
   "execution_count": null,
   "id": "ec2e68a8",
   "metadata": {},
   "outputs": [],
   "source": []
  }
 ],
 "metadata": {
  "kernelspec": {
   "display_name": "Python 3 (ipykernel)",
   "language": "python",
   "name": "python3"
  },
  "language_info": {
   "codemirror_mode": {
    "name": "ipython",
    "version": 3
   },
   "file_extension": ".py",
   "mimetype": "text/x-python",
   "name": "python",
   "nbconvert_exporter": "python",
   "pygments_lexer": "ipython3",
   "version": "3.9.13"
  }
 },
 "nbformat": 4,
 "nbformat_minor": 5
}
